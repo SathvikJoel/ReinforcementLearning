{
 "cells": [
  {
   "cell_type": "markdown",
   "metadata": {
    "id": "pn7PKu9r0asK"
   },
   "source": [
    "#**Tutorial 4 - DQN and Actor-Critic**\n",
    "\n",
    "Please follow this tutorial to understand the structure (code) of DQNs & get familiar with Actor Critic methods.\n",
    "\n",
    "\n",
    "### References:\n",
    "\n",
    "Please follow [Human-level control through deep reinforcement learning](https://www.nature.com/articles/nature14236) for the original publication as well as the psuedocode. Watch Prof. Ravi's lectures on moodle or nptel for further understanding the core concepts. Contact the TAs for further resources if needed. \n",
    "\n",
    "\n",
    "##**Part 1: DQN**"
   ]
  },
  {
   "cell_type": "code",
   "execution_count": 1,
   "metadata": {
    "colab": {
     "base_uri": "https://localhost:8080/",
     "height": 352
    },
    "executionInfo": {
     "elapsed": 65348,
     "status": "ok",
     "timestamp": 1646744540274,
     "user": {
      "displayName": "Kothapalli Sathvik Joel cs19b025",
      "photoUrl": "https://lh3.googleusercontent.com/a-/AOh14GibHcWEO8VhBV62xRa6WKlCvDu1lKMS3FXJjB_v2Q=s64",
      "userId": "01406366905148927319"
     },
     "user_tz": -330
    },
    "id": "azUjb7UK4Yfh",
    "outputId": "df5e025e-1e83-4db9-8274-7a7db07263d1"
   },
   "outputs": [
    {
     "name": "stdout",
     "output_type": "stream",
     "text": [
      "Requirement already satisfied: setuptools in /usr/local/lib/python3.7/dist-packages (57.4.0)\n",
      "Collecting setuptools\n",
      "  Downloading setuptools-60.9.3-py3-none-any.whl (1.1 MB)\n",
      "\u001b[K     |████████████████████████████████| 1.1 MB 4.3 MB/s \n",
      "\u001b[?25hInstalling collected packages: setuptools\n",
      "  Attempting uninstall: setuptools\n",
      "    Found existing installation: setuptools 57.4.0\n",
      "    Uninstalling setuptools-57.4.0:\n",
      "      Successfully uninstalled setuptools-57.4.0\n",
      "\u001b[31mERROR: pip's dependency resolver does not currently take into account all the packages that are installed. This behaviour is the source of the following dependency conflicts.\n",
      "tensorflow 2.8.0 requires tf-estimator-nightly==2.8.0.dev2021122109, which is not installed.\n",
      "datascience 0.10.6 requires folium==0.2.1, but you have folium 0.8.3 which is incompatible.\u001b[0m\n",
      "Successfully installed setuptools-60.9.3\n"
     ]
    },
    {
     "data": {
      "application/vnd.colab-display-data+json": {
       "pip_warning": {
        "packages": [
         "pkg_resources"
        ]
       }
      }
     },
     "metadata": {},
     "output_type": "display_data"
    }
   ],
   "source": [
    "'''\n",
    "Installing packages for rendering the game on Colab\n",
    "'''\n",
    "\n",
    "!pip install gym pyvirtualdisplay > /dev/null 2>&1\n",
    "!apt-get install -y xvfb python-opengl ffmpeg > /dev/null 2>&1\n",
    "!apt-get update > /dev/null 2>&1\n",
    "!apt-get install cmake > /dev/null 2>&1\n",
    "!pip install --upgrade setuptools 2>&1\n",
    "!pip install ez_setup > /dev/null 2>&1\n",
    "!pip install gym[atari] > /dev/null 2>&1\n",
    "!pip install git+https://github.com/tensorflow/docs > /dev/null 2>&1"
   ]
  },
  {
   "cell_type": "code",
   "execution_count": 1,
   "metadata": {
    "colab": {
     "base_uri": "https://localhost:8080/"
    },
    "collapsed": true,
    "executionInfo": {
     "elapsed": 57920,
     "status": "ok",
     "timestamp": 1646744621336,
     "user": {
      "displayName": "Kothapalli Sathvik Joel cs19b025",
      "photoUrl": "https://lh3.googleusercontent.com/a-/AOh14GibHcWEO8VhBV62xRa6WKlCvDu1lKMS3FXJjB_v2Q=s64",
      "userId": "01406366905148927319"
     },
     "user_tz": -330
    },
    "id": "dfCgocAHOZ6n",
    "outputId": "18f18cbb-04a4-49a3-8c0c-0348a484608a"
   },
   "outputs": [
    {
     "name": "stdout",
     "output_type": "stream",
     "text": [
      "Collecting tensorflow-gpu\n",
      "  Downloading tensorflow_gpu-2.8.0-cp37-cp37m-manylinux2010_x86_64.whl (497.5 MB)\n",
      "\u001b[K     |████████████████████████████████| 497.5 MB 28 kB/s \n",
      "\u001b[?25hRequirement already satisfied: absl-py>=0.4.0 in /usr/local/lib/python3.7/dist-packages (from tensorflow-gpu) (1.0.0)\n",
      "Requirement already satisfied: gast>=0.2.1 in /usr/local/lib/python3.7/dist-packages (from tensorflow-gpu) (0.5.3)\n",
      "Requirement already satisfied: astunparse>=1.6.0 in /usr/local/lib/python3.7/dist-packages (from tensorflow-gpu) (1.6.3)\n",
      "Requirement already satisfied: six>=1.12.0 in /usr/local/lib/python3.7/dist-packages (from tensorflow-gpu) (1.15.0)\n",
      "Requirement already satisfied: wrapt>=1.11.0 in /usr/local/lib/python3.7/dist-packages (from tensorflow-gpu) (1.13.3)\n",
      "Requirement already satisfied: termcolor>=1.1.0 in /usr/local/lib/python3.7/dist-packages (from tensorflow-gpu) (1.1.0)\n",
      "Requirement already satisfied: libclang>=9.0.1 in /usr/local/lib/python3.7/dist-packages (from tensorflow-gpu) (13.0.0)\n",
      "Requirement already satisfied: tensorflow-io-gcs-filesystem>=0.23.1 in /usr/local/lib/python3.7/dist-packages (from tensorflow-gpu) (0.24.0)\n",
      "Requirement already satisfied: keras<2.9,>=2.8.0rc0 in /usr/local/lib/python3.7/dist-packages (from tensorflow-gpu) (2.8.0)\n",
      "Requirement already satisfied: setuptools in /usr/local/lib/python3.7/dist-packages (from tensorflow-gpu) (60.9.3)\n",
      "Requirement already satisfied: google-pasta>=0.1.1 in /usr/local/lib/python3.7/dist-packages (from tensorflow-gpu) (0.2.0)\n",
      "Requirement already satisfied: opt-einsum>=2.3.2 in /usr/local/lib/python3.7/dist-packages (from tensorflow-gpu) (3.3.0)\n",
      "Requirement already satisfied: flatbuffers>=1.12 in /usr/local/lib/python3.7/dist-packages (from tensorflow-gpu) (2.0)\n",
      "Requirement already satisfied: numpy>=1.20 in /usr/local/lib/python3.7/dist-packages (from tensorflow-gpu) (1.21.5)\n",
      "Requirement already satisfied: h5py>=2.9.0 in /usr/local/lib/python3.7/dist-packages (from tensorflow-gpu) (3.1.0)\n",
      "Collecting tf-estimator-nightly==2.8.0.dev2021122109\n",
      "  Downloading tf_estimator_nightly-2.8.0.dev2021122109-py2.py3-none-any.whl (462 kB)\n",
      "\u001b[K     |████████████████████████████████| 462 kB 51.1 MB/s \n",
      "\u001b[?25hRequirement already satisfied: keras-preprocessing>=1.1.1 in /usr/local/lib/python3.7/dist-packages (from tensorflow-gpu) (1.1.2)\n",
      "Requirement already satisfied: protobuf>=3.9.2 in /usr/local/lib/python3.7/dist-packages (from tensorflow-gpu) (3.17.3)\n",
      "Requirement already satisfied: tensorboard<2.9,>=2.8 in /usr/local/lib/python3.7/dist-packages (from tensorflow-gpu) (2.8.0)\n",
      "Requirement already satisfied: grpcio<2.0,>=1.24.3 in /usr/local/lib/python3.7/dist-packages (from tensorflow-gpu) (1.44.0)\n",
      "Requirement already satisfied: typing-extensions>=3.6.6 in /usr/local/lib/python3.7/dist-packages (from tensorflow-gpu) (3.10.0.2)\n",
      "Requirement already satisfied: wheel<1.0,>=0.23.0 in /usr/local/lib/python3.7/dist-packages (from astunparse>=1.6.0->tensorflow-gpu) (0.37.1)\n",
      "Requirement already satisfied: cached-property in /usr/local/lib/python3.7/dist-packages (from h5py>=2.9.0->tensorflow-gpu) (1.5.2)\n",
      "Requirement already satisfied: google-auth-oauthlib<0.5,>=0.4.1 in /usr/local/lib/python3.7/dist-packages (from tensorboard<2.9,>=2.8->tensorflow-gpu) (0.4.6)\n",
      "Requirement already satisfied: markdown>=2.6.8 in /usr/local/lib/python3.7/dist-packages (from tensorboard<2.9,>=2.8->tensorflow-gpu) (3.3.6)\n",
      "Requirement already satisfied: tensorboard-data-server<0.7.0,>=0.6.0 in /usr/local/lib/python3.7/dist-packages (from tensorboard<2.9,>=2.8->tensorflow-gpu) (0.6.1)\n",
      "Requirement already satisfied: werkzeug>=0.11.15 in /usr/local/lib/python3.7/dist-packages (from tensorboard<2.9,>=2.8->tensorflow-gpu) (1.0.1)\n",
      "Requirement already satisfied: google-auth<3,>=1.6.3 in /usr/local/lib/python3.7/dist-packages (from tensorboard<2.9,>=2.8->tensorflow-gpu) (1.35.0)\n",
      "Requirement already satisfied: requests<3,>=2.21.0 in /usr/local/lib/python3.7/dist-packages (from tensorboard<2.9,>=2.8->tensorflow-gpu) (2.23.0)\n",
      "Requirement already satisfied: tensorboard-plugin-wit>=1.6.0 in /usr/local/lib/python3.7/dist-packages (from tensorboard<2.9,>=2.8->tensorflow-gpu) (1.8.1)\n",
      "Requirement already satisfied: pyasn1-modules>=0.2.1 in /usr/local/lib/python3.7/dist-packages (from google-auth<3,>=1.6.3->tensorboard<2.9,>=2.8->tensorflow-gpu) (0.2.8)\n",
      "Requirement already satisfied: rsa<5,>=3.1.4 in /usr/local/lib/python3.7/dist-packages (from google-auth<3,>=1.6.3->tensorboard<2.9,>=2.8->tensorflow-gpu) (4.8)\n",
      "Requirement already satisfied: cachetools<5.0,>=2.0.0 in /usr/local/lib/python3.7/dist-packages (from google-auth<3,>=1.6.3->tensorboard<2.9,>=2.8->tensorflow-gpu) (4.2.4)\n",
      "Requirement already satisfied: requests-oauthlib>=0.7.0 in /usr/local/lib/python3.7/dist-packages (from google-auth-oauthlib<0.5,>=0.4.1->tensorboard<2.9,>=2.8->tensorflow-gpu) (1.3.1)\n",
      "Requirement already satisfied: importlib-metadata>=4.4 in /usr/local/lib/python3.7/dist-packages (from markdown>=2.6.8->tensorboard<2.9,>=2.8->tensorflow-gpu) (4.11.2)\n",
      "Requirement already satisfied: zipp>=0.5 in /usr/local/lib/python3.7/dist-packages (from importlib-metadata>=4.4->markdown>=2.6.8->tensorboard<2.9,>=2.8->tensorflow-gpu) (3.7.0)\n",
      "Requirement already satisfied: pyasn1<0.5.0,>=0.4.6 in /usr/local/lib/python3.7/dist-packages (from pyasn1-modules>=0.2.1->google-auth<3,>=1.6.3->tensorboard<2.9,>=2.8->tensorflow-gpu) (0.4.8)\n",
      "Requirement already satisfied: idna<3,>=2.5 in /usr/local/lib/python3.7/dist-packages (from requests<3,>=2.21.0->tensorboard<2.9,>=2.8->tensorflow-gpu) (2.10)\n",
      "Requirement already satisfied: chardet<4,>=3.0.2 in /usr/local/lib/python3.7/dist-packages (from requests<3,>=2.21.0->tensorboard<2.9,>=2.8->tensorflow-gpu) (3.0.4)\n",
      "Requirement already satisfied: certifi>=2017.4.17 in /usr/local/lib/python3.7/dist-packages (from requests<3,>=2.21.0->tensorboard<2.9,>=2.8->tensorflow-gpu) (2021.10.8)\n",
      "Requirement already satisfied: urllib3!=1.25.0,!=1.25.1,<1.26,>=1.21.1 in /usr/local/lib/python3.7/dist-packages (from requests<3,>=2.21.0->tensorboard<2.9,>=2.8->tensorflow-gpu) (1.24.3)\n",
      "Requirement already satisfied: oauthlib>=3.0.0 in /usr/local/lib/python3.7/dist-packages (from requests-oauthlib>=0.7.0->google-auth-oauthlib<0.5,>=0.4.1->tensorboard<2.9,>=2.8->tensorflow-gpu) (3.2.0)\n",
      "Installing collected packages: tf-estimator-nightly, tensorflow-gpu\n",
      "Successfully installed tensorflow-gpu-2.8.0 tf-estimator-nightly-2.8.0.dev2021122109\n"
     ]
    }
   ],
   "source": [
    "!pip install tensorflow-gpu"
   ]
  },
  {
   "cell_type": "code",
   "execution_count": 2,
   "metadata": {
    "executionInfo": {
     "elapsed": 12962,
     "status": "ok",
     "timestamp": 1646744634289,
     "user": {
      "displayName": "Kothapalli Sathvik Joel cs19b025",
      "photoUrl": "https://lh3.googleusercontent.com/a-/AOh14GibHcWEO8VhBV62xRa6WKlCvDu1lKMS3FXJjB_v2Q=s64",
      "userId": "01406366905148927319"
     },
     "user_tz": -330
    },
    "id": "P_DODRgW_ZKS"
   },
   "outputs": [],
   "source": [
    "'''\n",
    "A bunch of imports, you don't have to worry about these\n",
    "'''\n",
    "\n",
    "import numpy as np\n",
    "import random\n",
    "import torch\n",
    "import torch.nn as nn  \n",
    "import torch.nn.functional as F\n",
    "from collections import namedtuple, deque\n",
    "import torch.optim as optim\n",
    "import datetime\n",
    "import gym\n",
    "from gym.wrappers import Monitor\n",
    "import glob\n",
    "import io\n",
    "import base64\n",
    "import matplotlib.pyplot as plt\n",
    "from IPython.display import HTML\n",
    "from pyvirtualdisplay import Display\n",
    "import tensorflow as tf\n",
    "from IPython import display as ipythondisplay\n",
    "from PIL import Image\n",
    "import tensorflow_probability as tfp"
   ]
  },
  {
   "cell_type": "code",
   "execution_count": 3,
   "metadata": {
    "colab": {
     "base_uri": "https://localhost:8080/"
    },
    "executionInfo": {
     "elapsed": 38,
     "status": "ok",
     "timestamp": 1646744634298,
     "user": {
      "displayName": "Kothapalli Sathvik Joel cs19b025",
      "photoUrl": "https://lh3.googleusercontent.com/a-/AOh14GibHcWEO8VhBV62xRa6WKlCvDu1lKMS3FXJjB_v2Q=s64",
      "userId": "01406366905148927319"
     },
     "user_tz": -330
    },
    "id": "fYNA5kiH_esJ",
    "outputId": "7a458b8b-3a55-414f-ffd1-2a05c58b13a7"
   },
   "outputs": [
    {
     "name": "stdout",
     "output_type": "stream",
     "text": [
      "4\n",
      "2\n",
      "1\n",
      "----\n",
      "[-0.04456399  0.04653909  0.01326909 -0.02099827]\n",
      "----\n",
      "0\n",
      "----\n",
      "[-0.04363321 -0.14877061  0.01284913  0.2758415 ]\n",
      "1.0\n",
      "False\n",
      "{}\n",
      "----\n"
     ]
    }
   ],
   "source": [
    "'''\n",
    "Please refer to the first tutorial for more details on the specifics of environments\n",
    "We've only added important commands you might find useful for experiments.\n",
    "'''\n",
    "\n",
    "'''\n",
    "List of example environments\n",
    "(Source - https://gym.openai.com/envs/#classic_control)\n",
    "\n",
    "'Acrobot-v1'\n",
    "'CartPole-v0'\n",
    "'MountainCar-v0'\n",
    "'''\n",
    "\n",
    "env = gym.make('CartPole-v0')\n",
    "env.seed(0)\n",
    "\n",
    "state_shape = env.observation_space.shape[0]\n",
    "no_of_actions = env.action_space.n\n",
    "\n",
    "print(state_shape)\n",
    "print(no_of_actions)\n",
    "print(env.action_space.sample())\n",
    "print(\"----\")\n",
    "\n",
    "'''\n",
    "# Understanding State, Action, Reward Dynamics\n",
    "\n",
    "The agent decides an action to take depending on the state.\n",
    "\n",
    "The Environment keeps a variable specifically for the current state.\n",
    "- Everytime an action is passed to the environment, it calculates the new state and updates the current state variable.\n",
    "- It returns the new current state and reward for the agent to take the next action\n",
    "\n",
    "'''\n",
    "\n",
    "state = env.reset()   \n",
    "''' This returns the initial state (when environment is reset) '''\n",
    "\n",
    "print(state)\n",
    "print(\"----\")\n",
    "\n",
    "action = env.action_space.sample()  \n",
    "''' We take a random action now '''\n",
    "\n",
    "print(action)\n",
    "print(\"----\")\n",
    "\n",
    "next_state, reward, done, info = env.step(action) \n",
    "''' env.step is used to calculate new state and obtain reward based on old state and action taken  ''' \n",
    "\n",
    "print(next_state)\n",
    "print(reward)\n",
    "print(done)\n",
    "print(info)\n",
    "print(\"----\")\n"
   ]
  },
  {
   "cell_type": "markdown",
   "metadata": {
    "id": "apuaOxavDXus"
   },
   "source": [
    "## DQN\n",
    "\n",
    "Using NNs as substitutes isn't something new. It has been tried earlier, but the 'human control' paper really popularised using NNs by providing a few stability ideas (Q-Targets, Experience Replay & Truncation). The 'Deep-Q Network' (DQN) Algorithm can be broken down into having the following components. \n",
    "\n",
    "### Q-Network:\n",
    "The neural network used as a function approximator is defined below"
   ]
  },
  {
   "cell_type": "code",
   "execution_count": 8,
   "metadata": {
    "executionInfo": {
     "elapsed": 578,
     "status": "ok",
     "timestamp": 1646744687982,
     "user": {
      "displayName": "Kothapalli Sathvik Joel cs19b025",
      "photoUrl": "https://lh3.googleusercontent.com/a-/AOh14GibHcWEO8VhBV62xRa6WKlCvDu1lKMS3FXJjB_v2Q=s64",
      "userId": "01406366905148927319"
     },
     "user_tz": -330
    },
    "id": "g4MRC1p2DZbp"
   },
   "outputs": [],
   "source": [
    "'''\n",
    "### Q Network & Some 'hyperparameters'\n",
    "\n",
    "QNetwork1:\n",
    "Input Layer - 4 nodes (State Shape) \\\n",
    "Hidden Layer 1 - 64 nodes \\\n",
    "Hidden Layer 2 - 64 nodes \\\n",
    "Output Layer - 2 nodes (Action Space) \\\n",
    "Optimizer - zero_grad()\n",
    "\n",
    "QNetwork2: Feel free to experiment more\n",
    "'''\n",
    "\n",
    "import torch\n",
    "import torch.nn as nn  \n",
    "import torch.nn.functional as F\n",
    "\n",
    "\n",
    "'''\n",
    "Bunch of Hyper parameters (Which you might have to tune later **wink wink**)\n",
    "'''\n",
    "BUFFER_SIZE = int(1e5)  #''' replay buffer size '''\n",
    "BATCH_SIZE = 64         #''' minibatch size '''\n",
    "GAMMA = 0.99            #''' discount factor '''\n",
    "LR = 5e-4               #''' learning rate '''\n",
    "UPDATE_EVERY = 20       #''' how often to update the network (When Q target is present) '''\n",
    "\n",
    "\n",
    "class QNetwork1(nn.Module):\n",
    "\n",
    "    def __init__(self, state_size, action_size, seed, fc1_units=128, fc2_units=64):\n",
    "        \"\"\"Initialize parameters and build model.\n",
    "        Params\n",
    "        ======\n",
    "            state_size (int): Dimension of each state\n",
    "            action_size (int): Dimension of each action\n",
    "            seed (int): Random seed\n",
    "            fc1_units (int): Number of nodes in first hidden layer\n",
    "            fc2_units (int): Number of nodes in second hidden layer\n",
    "        \"\"\"\n",
    "        super(QNetwork1, self).__init__()\n",
    "        self.seed = torch.manual_seed(seed)\n",
    "        self.fc1 = nn.Linear(state_size, fc1_units)\n",
    "        self.fc2 = nn.Linear(fc1_units, fc2_units)\n",
    "        self.fc3 = nn.Linear(fc2_units, action_size)\n",
    "\n",
    "    def forward(self, state):\n",
    "        \"\"\"Build a network that maps state -> action values.\"\"\"\n",
    "        x = F.relu(self.fc1(state))\n",
    "        x = F.relu(self.fc2(x))\n",
    "        return self.fc3(x)"
   ]
  },
  {
   "cell_type": "markdown",
   "metadata": {
    "id": "Jmv5c0XoK8GA"
   },
   "source": [
    "### Replay Buffer:\n",
    "\n",
    "This is a 'deque' that helps us store experiences. Recall why we use such a technique."
   ]
  },
  {
   "cell_type": "code",
   "execution_count": 9,
   "metadata": {
    "executionInfo": {
     "elapsed": 564,
     "status": "ok",
     "timestamp": 1646744728101,
     "user": {
      "displayName": "Kothapalli Sathvik Joel cs19b025",
      "photoUrl": "https://lh3.googleusercontent.com/a-/AOh14GibHcWEO8VhBV62xRa6WKlCvDu1lKMS3FXJjB_v2Q=s64",
      "userId": "01406366905148927319"
     },
     "user_tz": -330
    },
    "id": "bh_oghc7Ledh"
   },
   "outputs": [],
   "source": [
    "import random\n",
    "import torch\n",
    "import numpy as np\n",
    "from collections import deque, namedtuple\n",
    "\n",
    "device = torch.device(\"cuda:0\" if torch.cuda.is_available() else \"cpu\")\n",
    "\n",
    "class ReplayBuffer:\n",
    "    \"\"\"Fixed-size buffer to store experience tuples.\"\"\"\n",
    "\n",
    "    def __init__(self, action_size, buffer_size, batch_size, seed):\n",
    "        \"\"\"Initialize a ReplayBuffer object.\n",
    "\n",
    "        Params\n",
    "        ======\n",
    "            action_size (int): dimension of each action\n",
    "            buffer_size (int): maximum size of buffer\n",
    "            batch_size (int): size of each training batch\n",
    "            seed (int): random seed\n",
    "        \"\"\"\n",
    "        self.action_size = action_size\n",
    "        self.memory = deque(maxlen=buffer_size)  \n",
    "        self.batch_size = batch_size\n",
    "        self.experience = namedtuple(\"Experience\", field_names=[\"state\", \"action\", \"reward\", \"next_state\", \"done\"])\n",
    "        self.seed = random.seed(seed)\n",
    "    \n",
    "    def add(self, state, action, reward, next_state, done):\n",
    "        \"\"\"Add a new experience to memory.\"\"\"\n",
    "        e = self.experience(state, action, reward, next_state, done)\n",
    "        self.memory.append(e)\n",
    "    \n",
    "    def sample(self):\n",
    "        \"\"\"Randomly sample a batch of experiences from memory.\"\"\"\n",
    "        experiences = random.sample(self.memory, k=self.batch_size)\n",
    "\n",
    "        states = torch.from_numpy(np.vstack([e.state for e in experiences if e is not None])).float().to(device)\n",
    "        actions = torch.from_numpy(np.vstack([e.action for e in experiences if e is not None])).long().to(device)\n",
    "        rewards = torch.from_numpy(np.vstack([e.reward for e in experiences if e is not None])).float().to(device)\n",
    "        next_states = torch.from_numpy(np.vstack([e.next_state for e in experiences if e is not None])).float().to(device)\n",
    "        dones = torch.from_numpy(np.vstack([e.done for e in experiences if e is not None]).astype(np.uint8)).float().to(device)\n",
    "  \n",
    "        return (states, actions, rewards, next_states, dones)\n",
    "\n",
    "    def __len__(self):\n",
    "        \"\"\"Return the current size of internal memory.\"\"\"\n",
    "        return len(self.memory)"
   ]
  },
  {
   "cell_type": "markdown",
   "metadata": {
    "id": "N8VJYkqoLqlO"
   },
   "source": [
    "## Truncation:\n",
    "We add a line (optionally) in the code to truncate the gradient in hopes that it would help with the stability of the learning process.\n",
    "\n",
    "## Tutorial Agent Code:\n"
   ]
  },
  {
   "cell_type": "code",
   "execution_count": 10,
   "metadata": {
    "executionInfo": {
     "elapsed": 577,
     "status": "ok",
     "timestamp": 1646745035685,
     "user": {
      "displayName": "Kothapalli Sathvik Joel cs19b025",
      "photoUrl": "https://lh3.googleusercontent.com/a-/AOh14GibHcWEO8VhBV62xRa6WKlCvDu1lKMS3FXJjB_v2Q=s64",
      "userId": "01406366905148927319"
     },
     "user_tz": -330
    },
    "id": "ok_5eQM7OCTj"
   },
   "outputs": [],
   "source": [
    "class TutorialAgent():\n",
    "\n",
    "    def __init__(self, state_size, action_size, seed):\n",
    "\n",
    "        ''' Agent Environment Interaction '''\n",
    "        self.state_size = state_size\n",
    "        self.action_size = action_size\n",
    "        self.seed = random.seed(seed)\n",
    "\n",
    "        ''' Q-Network '''\n",
    "        self.qnetwork_local = QNetwork1(state_size, action_size, seed).to(device)\n",
    "        self.qnetwork_target = QNetwork1(state_size, action_size, seed).to(device)\n",
    "        self.optimizer = optim.Adam(self.qnetwork_local.parameters(), lr=LR)\n",
    "\n",
    "        ''' Replay memory '''\n",
    "        self.memory = ReplayBuffer(action_size, BUFFER_SIZE, BATCH_SIZE, seed)\n",
    "\n",
    "        ''' Initialize time step (for updating every UPDATE_EVERY steps)           -Needed for Q Targets '''\n",
    "        self.t_step = 0\n",
    "    \n",
    "    def step(self, state, action, reward, next_state, done):\n",
    "\n",
    "        ''' Save experience in replay memory '''\n",
    "        self.memory.add(state, action, reward, next_state, done)\n",
    "        \n",
    "        ''' If enough samples are available in memory, get random subset and learn '''\n",
    "        if len(self.memory) >= BATCH_SIZE:\n",
    "            experiences = self.memory.sample()\n",
    "            self.learn(experiences, GAMMA)\n",
    "\n",
    "        \"\"\" +Q TARGETS PRESENT \"\"\"\n",
    "        ''' Updating the Network every 'UPDATE_EVERY' steps taken '''      \n",
    "        self.t_step = (self.t_step + 1) % UPDATE_EVERY\n",
    "        if self.t_step == 0:\n",
    "\n",
    "            self.qnetwork_target.load_state_dict(self.qnetwork_local.state_dict())\n",
    "\n",
    "    def act(self, state, eps=0.):\n",
    "\n",
    "        state = torch.from_numpy(state).float().unsqueeze(0).to(device)\n",
    "        self.qnetwork_local.eval()\n",
    "        with torch.no_grad():\n",
    "            action_values = self.qnetwork_local(state)\n",
    "        self.qnetwork_local.train()\n",
    "\n",
    "        ''' Epsilon-greedy action selection (Already Present) '''\n",
    "        if random.random() > eps:\n",
    "            return np.argmax(action_values.cpu().data.numpy())\n",
    "        else:\n",
    "            return random.choice(np.arange(self.action_size))\n",
    "\n",
    "    def learn(self, experiences, gamma):\n",
    "        \"\"\" +E EXPERIENCE REPLAY PRESENT \"\"\"\n",
    "        states, actions, rewards, next_states, dones = experiences\n",
    "\n",
    "        ''' Get max predicted Q values (for next states) from target model'''\n",
    "        Q_targets_next = self.qnetwork_target(next_states).detach().max(1)[0].unsqueeze(1)\n",
    "\n",
    "        ''' Compute Q targets for current states '''\n",
    "        Q_targets = rewards + (gamma * Q_targets_next * (1 - dones))\n",
    "\n",
    "        ''' Get expected Q values from local model '''\n",
    "        Q_expected = self.qnetwork_local(states).gather(1, actions)\n",
    "\n",
    "        ''' Compute loss '''\n",
    "        loss = F.mse_loss(Q_expected, Q_targets)\n",
    "\n",
    "        ''' Minimize the loss '''\n",
    "        self.optimizer.zero_grad()\n",
    "        loss.backward()\n",
    "        \n",
    "        ''' Gradiant Clipping '''\n",
    "        \"\"\" +T TRUNCATION PRESENT \"\"\"\n",
    "        for param in self.qnetwork_local.parameters():\n",
    "            param.grad.data.clamp_(-1, 1)\n",
    "            \n",
    "        self.optimizer.step()"
   ]
  },
  {
   "cell_type": "markdown",
   "metadata": {
    "id": "3SQFbRCHWQyO"
   },
   "source": [
    "### Here, we present the DQN algorithm code."
   ]
  },
  {
   "cell_type": "code",
   "execution_count": 11,
   "metadata": {
    "colab": {
     "base_uri": "https://localhost:8080/"
    },
    "executionInfo": {
     "elapsed": 1191664,
     "status": "ok",
     "timestamp": 1646746264606,
     "user": {
      "displayName": "Kothapalli Sathvik Joel cs19b025",
      "photoUrl": "https://lh3.googleusercontent.com/a-/AOh14GibHcWEO8VhBV62xRa6WKlCvDu1lKMS3FXJjB_v2Q=s64",
      "userId": "01406366905148927319"
     },
     "user_tz": -330
    },
    "id": "r6A2TdUHWVUN",
    "outputId": "5233c49b-692c-4e8a-9651-5ce24d7ead48"
   },
   "outputs": [
    {
     "name": "stdout",
     "output_type": "stream",
     "text": [
      "Episode 100\tAverage Score: 38.69\n",
      "Episode 200\tAverage Score: 111.40\n",
      "Episode 300\tAverage Score: 133.89\n",
      "Episode 400\tAverage Score: 16.51\n",
      "Episode 500\tAverage Score: 108.32\n",
      "Episode 600\tAverage Score: 29.27\n",
      "Episode 700\tAverage Score: 93.15\n",
      "Episode 800\tAverage Score: 100.44\n",
      "Episode 900\tAverage Score: 132.83\n",
      "Episode 1000\tAverage Score: 114.17\n",
      "Episode 1100\tAverage Score: 74.54\n",
      "Episode 1200\tAverage Score: 84.73\n",
      "Episode 1300\tAverage Score: 164.76\n",
      "Episode 1400\tAverage Score: 109.28\n",
      "Episode 1500\tAverage Score: 105.75\n",
      "Episode 1600\tAverage Score: 85.55\n",
      "Episode 1700\tAverage Score: 145.35\n",
      "Episode 1800\tAverage Score: 169.25\n",
      "Episode 1900\tAverage Score: 43.73\n",
      "Episode 2000\tAverage Score: 9.35\n",
      "Episode 2100\tAverage Score: 9.39\n",
      "Episode 2200\tAverage Score: 9.32\n",
      "Episode 2300\tAverage Score: 9.26\n",
      "Episode 2400\tAverage Score: 9.43\n",
      "Episode 2500\tAverage Score: 9.61\n",
      "Episode 2600\tAverage Score: 9.44\n",
      "Episode 2700\tAverage Score: 9.48\n",
      "Episode 2800\tAverage Score: 9.45\n",
      "Episode 2900\tAverage Score: 68.77\n",
      "Episode 3000\tAverage Score: 10.47\n",
      "Episode 3100\tAverage Score: 10.64\n",
      "Episode 3200\tAverage Score: 10.44\n",
      "Episode 3300\tAverage Score: 10.81\n",
      "Episode 3400\tAverage Score: 63.23\n",
      "Episode 3500\tAverage Score: 10.24\n",
      "Episode 3600\tAverage Score: 10.00\n",
      "Episode 3700\tAverage Score: 9.97\n",
      "Episode 3800\tAverage Score: 9.79\n",
      "Episode 3900\tAverage Score: 9.80\n",
      "Episode 4000\tAverage Score: 9.58\n",
      "Episode 4100\tAverage Score: 9.61\n",
      "Episode 4200\tAverage Score: 9.64\n",
      "Episode 4300\tAverage Score: 9.76\n",
      "Episode 4400\tAverage Score: 9.51\n",
      "Episode 4500\tAverage Score: 9.72\n",
      "Episode 4600\tAverage Score: 9.48\n",
      "Episode 4700\tAverage Score: 9.50\n",
      "Episode 4800\tAverage Score: 9.39\n",
      "Episode 4900\tAverage Score: 9.32\n",
      "Episode 5000\tAverage Score: 9.48\n",
      "Episode 5100\tAverage Score: 9.43\n",
      "Episode 5200\tAverage Score: 9.44\n",
      "Episode 5300\tAverage Score: 9.49\n",
      "Episode 5400\tAverage Score: 9.56\n",
      "Episode 5500\tAverage Score: 9.31\n",
      "Episode 5600\tAverage Score: 9.27\n",
      "Episode 5700\tAverage Score: 9.47\n",
      "Episode 5800\tAverage Score: 9.48\n",
      "Episode 5900\tAverage Score: 9.62\n",
      "Episode 6000\tAverage Score: 9.36\n",
      "Episode 6100\tAverage Score: 9.37\n",
      "Episode 6200\tAverage Score: 9.39\n",
      "Episode 6300\tAverage Score: 9.35\n",
      "Episode 6400\tAverage Score: 9.32\n",
      "Episode 6500\tAverage Score: 9.26\n",
      "Episode 6600\tAverage Score: 9.36\n",
      "Episode 6700\tAverage Score: 9.48\n",
      "Episode 6800\tAverage Score: 9.41\n",
      "Episode 6900\tAverage Score: 9.35\n",
      "Episode 7000\tAverage Score: 9.55\n",
      "Episode 7100\tAverage Score: 9.28\n",
      "Episode 7200\tAverage Score: 9.45\n",
      "Episode 7300\tAverage Score: 9.33\n",
      "Episode 7400\tAverage Score: 9.38\n",
      "Episode 7500\tAverage Score: 9.41\n",
      "Episode 7600\tAverage Score: 9.42\n",
      "Episode 7700\tAverage Score: 9.46\n",
      "Episode 7800\tAverage Score: 9.39\n",
      "Episode 7900\tAverage Score: 9.41\n",
      "Episode 8000\tAverage Score: 9.31\n",
      "Episode 8100\tAverage Score: 9.48\n",
      "Episode 8200\tAverage Score: 9.43\n",
      "Episode 8300\tAverage Score: 9.36\n",
      "Episode 8400\tAverage Score: 9.48\n",
      "Episode 8500\tAverage Score: 9.27\n",
      "Episode 8600\tAverage Score: 9.49\n",
      "Episode 8700\tAverage Score: 9.30\n",
      "Episode 8800\tAverage Score: 9.44\n",
      "Episode 8900\tAverage Score: 9.42\n",
      "Episode 9000\tAverage Score: 9.28\n",
      "Episode 9100\tAverage Score: 9.41\n",
      "Episode 9200\tAverage Score: 9.38\n",
      "Episode 9300\tAverage Score: 9.43\n",
      "Episode 9400\tAverage Score: 9.63\n",
      "Episode 9500\tAverage Score: 9.47\n",
      "Episode 9600\tAverage Score: 9.40\n",
      "Episode 9700\tAverage Score: 9.49\n",
      "Episode 9800\tAverage Score: 9.55\n",
      "Episode 9900\tAverage Score: 9.36\n",
      "Episode 10000\tAverage Score: 9.43\n",
      "0:19:51.070185\n"
     ]
    }
   ],
   "source": [
    "''' Defining DQN Algorithm '''\n",
    "\n",
    "state_shape = env.observation_space.shape[0]\n",
    "action_shape = env.action_space.n\n",
    "\n",
    "def dqn(n_episodes=10000, max_t=1000, eps_start=1.0, eps_end=0.01, eps_decay=0.995):\n",
    "\n",
    "    scores = []                 \n",
    "    ''' list containing scores from each episode '''\n",
    "\n",
    "    scores_window_printing = deque(maxlen=10) \n",
    "    ''' For printing in the graph '''\n",
    "    \n",
    "    scores_window= deque(maxlen=100)  \n",
    "    ''' last 100 scores for checking if the avg is more than 195 '''\n",
    "\n",
    "    eps = eps_start                    \n",
    "    ''' initialize epsilon '''\n",
    "\n",
    "    for i_episode in range(1, n_episodes+1):\n",
    "        state = env.reset()\n",
    "        score = 0\n",
    "        for t in range(max_t):\n",
    "            action = agent.act(state, eps)\n",
    "            next_state, reward, done, _ = env.step(action)\n",
    "            agent.step(state, action, reward, next_state, done)\n",
    "            state = next_state\n",
    "            score += reward\n",
    "            if done:\n",
    "                break \n",
    "\n",
    "        scores_window.append(score)       \n",
    "        scores_window_printing.append(score)   \n",
    "        ''' save most recent score '''           \n",
    "\n",
    "        eps = max(eps_end, eps_decay*eps) \n",
    "        ''' decrease epsilon '''\n",
    "\n",
    "        print('\\rEpisode {}\\tAverage Score: {:.2f}'.format(i_episode, np.mean(scores_window)), end=\"\")  \n",
    "        if i_episode % 10 == 0: \n",
    "            scores.append(np.mean(scores_window_printing))        \n",
    "        if i_episode % 100 == 0: \n",
    "           print('\\rEpisode {}\\tAverage Score: {:.2f}'.format(i_episode, np.mean(scores_window)))\n",
    "        if np.mean(scores_window)>=195.0:\n",
    "           print('\\nEnvironment solved in {:d} episodes!\\tAverage Score: {:.2f}'.format(i_episode-100, np.mean(scores_window)))\n",
    "           break\n",
    "    return [np.array(scores),i_episode-100]\n",
    "\n",
    "''' Trial run to check if algorithm runs and saves the data '''\n",
    "\n",
    "begin_time = datetime.datetime.now()\n",
    "agent = TutorialAgent(state_size=state_shape,action_size = action_shape,seed = 0)\n",
    "\n",
    "\n",
    "dqn()\n",
    "\n",
    "\n",
    "time_taken = datetime.datetime.now() - begin_time\n",
    "\n",
    "print(time_taken)"
   ]
  },
  {
   "cell_type": "markdown",
   "metadata": {
    "id": "sL9YMq9yPHLk"
   },
   "source": [
    "### **Task 1a**  \n",
    "Understand the core of the algorithm, follow the flow of data. Identify the exploration strategy used.\n",
    "### **Task 1b**\n",
    "Out of the two exploration strategies discussed in class ($ϵ$-greedy & Softmax). Implement the strategy that's not used here. \n",
    "### **Task 1c**\n",
    "How fast does the agent 'solve' the environment in terms of the number of episodes?\n",
    "(CartPole-v0 defines \"solving\" as getting average reward of 195.0 over 100 consecutive trials. SOURCE - https://gym.openai.com/envs/CartPole-v0/)\n",
    "\n",
    "How 'well' does the agent learn? (reward plot?) The above two are some 'evaluation metrics' you can use to comment on the performance of an algorithm.\n",
    "\n",
    "Please compare DQN (using $\\epsilon$-greedy) with DQN (using softmax). Think along the lines of 'no. of episodes', 'reward plots', 'compute time', etc. and add a few comments.\n",
    "\n",
    "### **Task 1d (Optional)** \n",
    "\n",
    "Take a look at the official submissions page on [OpenAI gym's CartPole v-0 evaluations](https://gym.openai.com/envs/CartPole-v0/) \n",
    "\n",
    "\n"
   ]
  },
  {
   "cell_type": "markdown",
   "metadata": {
    "id": "5LBh6_lOVBdN"
   },
   "source": [
    "#### **Submission Steps**\n",
    "\n",
    "#### Task 1: Add a text cell with the answer.\n",
    "\n",
    "#### Task 2: Add a code cell below task 1 solution and use 'Tutorial Agent Code' to build your new agent (with a different exploration strategy).\n",
    "\n",
    "#### Task 3: Add a code cell below task 2 solution running both the agents to solve the CartPole v-0 environment and add a new text cell below it with your inferences."
   ]
  },
  {
   "cell_type": "markdown",
   "metadata": {
    "id": "xyhILQxXrKgj"
   },
   "source": [
    "### Task 1a\n",
    "\n",
    "The exploration stratagy used is epsilon greedy where epsilon decays over time, that is as the agent learn the exploration is decreased"
   ]
  },
  {
   "cell_type": "markdown",
   "metadata": {
    "id": "7N_EWeXcrXtn"
   },
   "source": [
    "### Task 1b"
   ]
  },
  {
   "cell_type": "code",
   "execution_count": 18,
   "metadata": {
    "executionInfo": {
     "elapsed": 566,
     "status": "ok",
     "timestamp": 1646747567559,
     "user": {
      "displayName": "Kothapalli Sathvik Joel cs19b025",
      "photoUrl": "https://lh3.googleusercontent.com/a-/AOh14GibHcWEO8VhBV62xRa6WKlCvDu1lKMS3FXJjB_v2Q=s64",
      "userId": "01406366905148927319"
     },
     "user_tz": -330
    },
    "id": "b2W3fzS-rWy0"
   },
   "outputs": [],
   "source": [
    "from scipy.special import softmax\n",
    "seed = 42\n",
    "rg = np.random.RandomState(seed)\n",
    "\n",
    "class MyTutorialAgent(TutorialAgent):\n",
    "  def act(self, state, eps=0.):\n",
    "\n",
    "        state = torch.from_numpy(state).float().unsqueeze(0).to(device)\n",
    "        self.qnetwork_local.eval()\n",
    "        with torch.no_grad():\n",
    "            action_values = self.qnetwork_local(state)\n",
    "        self.qnetwork_local.train()\n",
    "\n",
    "        ''' Softmax action selection '''\n",
    "        p = softmax(action_values.cpu().data.numpy())\n",
    "        p = p.ravel()\n",
    "        p /= p.sum()\n",
    "        return rg.choice(  np.arange(self.action_size)  , p = p  )\n",
    "\n",
    "\n",
    "        # if random.random() > eps:\n",
    "        #     return np.argmax(action_values.cpu().data.numpy())\n",
    "        # else:\n",
    "        #     return random.choice(np.arange(self.action_size))"
   ]
  },
  {
   "cell_type": "markdown",
   "metadata": {
    "id": "OT7EAFUitp7C"
   },
   "source": [
    "### Task 1c"
   ]
  },
  {
   "cell_type": "code",
   "execution_count": 19,
   "metadata": {
    "colab": {
     "base_uri": "https://localhost:8080/"
    },
    "executionInfo": {
     "elapsed": 298171,
     "status": "ok",
     "timestamp": 1646747867998,
     "user": {
      "displayName": "Kothapalli Sathvik Joel cs19b025",
      "photoUrl": "https://lh3.googleusercontent.com/a-/AOh14GibHcWEO8VhBV62xRa6WKlCvDu1lKMS3FXJjB_v2Q=s64",
      "userId": "01406366905148927319"
     },
     "user_tz": -330
    },
    "id": "K4clq-BXzS0i",
    "outputId": "c20d7799-1eeb-47d9-b1b1-6f1f8dc598f3"
   },
   "outputs": [
    {
     "name": "stdout",
     "output_type": "stream",
     "text": [
      "Episode 100\tAverage Score: 110.30\n",
      "Episode 200\tAverage Score: 161.68\n",
      "Episode 300\tAverage Score: 28.08\n",
      "Episode 400\tAverage Score: 37.61\n",
      "Episode 500\tAverage Score: 107.09\n",
      "Episode 600\tAverage Score: 72.85\n",
      "Episode 673\tAverage Score: 195.52\n",
      "Environment solved in 573 episodes!\tAverage Score: 195.52\n"
     ]
    }
   ],
   "source": [
    "agent = MyTutorialAgent(state_size=state_shape,action_size = action_shape,seed = 0)\n",
    "s_scores = dqn()"
   ]
  },
  {
   "cell_type": "code",
   "execution_count": 39,
   "metadata": {
    "colab": {
     "base_uri": "https://localhost:8080/"
    },
    "executionInfo": {
     "elapsed": 2813596,
     "status": "ok",
     "timestamp": 1646752127773,
     "user": {
      "displayName": "Kothapalli Sathvik Joel cs19b025",
      "photoUrl": "https://lh3.googleusercontent.com/a-/AOh14GibHcWEO8VhBV62xRa6WKlCvDu1lKMS3FXJjB_v2Q=s64",
      "userId": "01406366905148927319"
     },
     "user_tz": -330
    },
    "id": "9dUlyxUH2Yyy",
    "outputId": "4dd7b84c-3181-4a47-cec3-7640ebeb4c5a"
   },
   "outputs": [
    {
     "name": "stdout",
     "output_type": "stream",
     "text": [
      "Episode 100\tAverage Score: 38.65\n",
      "Episode 200\tAverage Score: 136.83\n",
      "Episode 300\tAverage Score: 58.50\n",
      "Episode 400\tAverage Score: 57.59\n",
      "Episode 500\tAverage Score: 41.70\n",
      "Episode 600\tAverage Score: 163.05\n",
      "Episode 700\tAverage Score: 180.40\n",
      "Episode 800\tAverage Score: 157.15\n",
      "Episode 900\tAverage Score: 80.60\n",
      "Episode 1000\tAverage Score: 54.46\n",
      "Episode 1100\tAverage Score: 69.31\n",
      "Episode 1200\tAverage Score: 185.66\n",
      "Episode 1218\tAverage Score: 195.98\n",
      "Environment solved in 1118 episodes!\tAverage Score: 195.98\n",
      "Episode 100\tAverage Score: 150.03\n",
      "Episode 126\tAverage Score: 195.20\n",
      "Environment solved in 26 episodes!\tAverage Score: 195.20\n",
      "Episode 100\tAverage Score: 40.82\n",
      "Episode 200\tAverage Score: 124.14\n",
      "Episode 300\tAverage Score: 173.90\n",
      "Episode 400\tAverage Score: 50.38\n",
      "Episode 500\tAverage Score: 34.62\n",
      "Episode 600\tAverage Score: 33.04\n",
      "Episode 700\tAverage Score: 20.58\n",
      "Episode 800\tAverage Score: 17.69\n",
      "Episode 900\tAverage Score: 18.61\n",
      "Episode 1000\tAverage Score: 9.35\n",
      "Episode 1100\tAverage Score: 9.33\n",
      "Episode 1200\tAverage Score: 9.50\n",
      "Episode 1300\tAverage Score: 26.08\n",
      "Episode 1400\tAverage Score: 75.06\n",
      "Episode 1500\tAverage Score: 53.95\n",
      "Episode 1600\tAverage Score: 28.29\n",
      "Episode 1700\tAverage Score: 82.77\n",
      "Episode 1800\tAverage Score: 118.31\n",
      "Episode 1900\tAverage Score: 31.38\n",
      "Episode 2000\tAverage Score: 34.17\n",
      "Episode 2100\tAverage Score: 27.64\n",
      "Episode 2200\tAverage Score: 32.65\n",
      "Episode 2300\tAverage Score: 36.08\n",
      "Episode 2400\tAverage Score: 89.38\n",
      "Episode 2500\tAverage Score: 69.61\n",
      "Episode 2600\tAverage Score: 35.89\n",
      "Episode 2700\tAverage Score: 32.01\n",
      "Episode 2800\tAverage Score: 104.35\n",
      "Episode 2884\tAverage Score: 195.01\n",
      "Environment solved in 2784 episodes!\tAverage Score: 195.01\n",
      "Episode 100\tAverage Score: 104.71\n",
      "Episode 200\tAverage Score: 157.89\n",
      "Episode 300\tAverage Score: 75.97\n",
      "Episode 400\tAverage Score: 24.66\n",
      "Episode 500\tAverage Score: 44.86\n",
      "Episode 600\tAverage Score: 103.75\n",
      "Episode 670\tAverage Score: 196.23\n",
      "Environment solved in 570 episodes!\tAverage Score: 196.23\n",
      "Episode 100\tAverage Score: 40.51\n",
      "Episode 200\tAverage Score: 125.21\n",
      "Episode 300\tAverage Score: 182.53\n",
      "Episode 400\tAverage Score: 30.41\n",
      "Episode 500\tAverage Score: 11.56\n",
      "Episode 600\tAverage Score: 42.04\n",
      "Episode 700\tAverage Score: 12.31\n",
      "Episode 800\tAverage Score: 9.72\n",
      "Episode 900\tAverage Score: 11.54\n",
      "Episode 1000\tAverage Score: 20.48\n",
      "Episode 1100\tAverage Score: 30.80\n",
      "Episode 1200\tAverage Score: 45.32\n",
      "Episode 1300\tAverage Score: 78.93\n",
      "Episode 1400\tAverage Score: 92.41\n",
      "Episode 1500\tAverage Score: 56.65\n",
      "Episode 1600\tAverage Score: 22.77\n",
      "Episode 1700\tAverage Score: 20.15\n",
      "Episode 1800\tAverage Score: 20.45\n",
      "Episode 1900\tAverage Score: 20.40\n",
      "Episode 2000\tAverage Score: 36.09\n",
      "Episode 2100\tAverage Score: 113.26\n",
      "Episode 2200\tAverage Score: 66.47\n",
      "Episode 2300\tAverage Score: 52.05\n",
      "Episode 2400\tAverage Score: 72.38\n",
      "Episode 2500\tAverage Score: 91.84\n",
      "Episode 2600\tAverage Score: 62.10\n",
      "Episode 2700\tAverage Score: 38.17\n",
      "Episode 2800\tAverage Score: 31.79\n",
      "Episode 2900\tAverage Score: 27.66\n",
      "Episode 3000\tAverage Score: 39.92\n",
      "Episode 3100\tAverage Score: 43.92\n",
      "Episode 3200\tAverage Score: 104.81\n",
      "Episode 3300\tAverage Score: 118.64\n",
      "Episode 3400\tAverage Score: 190.82\n",
      "Episode 3404\tAverage Score: 195.53\n",
      "Environment solved in 3304 episodes!\tAverage Score: 195.53\n",
      "Episode 100\tAverage Score: 111.40\n",
      "Episode 200\tAverage Score: 66.37\n",
      "Episode 300\tAverage Score: 44.66\n",
      "Episode 400\tAverage Score: 78.82\n",
      "Episode 500\tAverage Score: 83.53\n",
      "Episode 600\tAverage Score: 13.65\n",
      "Episode 700\tAverage Score: 80.87\n",
      "Episode 800\tAverage Score: 116.01\n",
      "Episode 900\tAverage Score: 51.30\n",
      "Episode 1000\tAverage Score: 99.08\n",
      "Episode 1084\tAverage Score: 196.46\n",
      "Environment solved in 984 episodes!\tAverage Score: 196.46\n"
     ]
    }
   ],
   "source": [
    "s_scores_l = []\n",
    "e_scores_l = []\n",
    "\n",
    "for i in range(3):\n",
    "  agent = TutorialAgent(state_size=state_shape,action_size = action_shape,seed = 0)\n",
    "  e_scores = dqn()\n",
    "  e_scores_l.append(e_scores)\n",
    "\n",
    "  agent = MyTutorialAgent(state_size=state_shape,action_size = action_shape,seed = 0)\n",
    "  s_scores = dqn()\n",
    "  s_scores_l.append(s_scores)"
   ]
  },
  {
   "cell_type": "code",
   "execution_count": 41,
   "metadata": {
    "colab": {
     "base_uri": "https://localhost:8080/"
    },
    "executionInfo": {
     "elapsed": 634,
     "status": "ok",
     "timestamp": 1646752298339,
     "user": {
      "displayName": "Kothapalli Sathvik Joel cs19b025",
      "photoUrl": "https://lh3.googleusercontent.com/a-/AOh14GibHcWEO8VhBV62xRa6WKlCvDu1lKMS3FXJjB_v2Q=s64",
      "userId": "01406366905148927319"
     },
     "user_tz": -330
    },
    "id": "n0FgUSjH239k",
    "outputId": "7f6fc426-a9a1-4aa8-9a78-082c2e3ce5e1"
   },
   "outputs": [
    {
     "name": "stdout",
     "output_type": "stream",
     "text": [
      "Epsilon greedy DQN Expriement 0: \t Environment solved in 1118 episodes\n",
      "\n",
      "Epsilon greedy DQN Expriement 1: \t Environment solved in 2784 episodes\n",
      "\n",
      "Epsilon greedy DQN Expriement 2: \t Environment solved in 3304 episodes\n",
      "\n",
      "Average is 2402.0\n",
      "Softmax DQN Expriement 0: \t Environment solved in 26 episodes\n",
      "\n",
      "Softmax DQN Expriement 1: \t Environment solved in 570 episodes\n",
      "\n",
      "Softmax DQN Expriement 2: \t Environment solved in 984 episodes\n",
      "\n",
      "Average is 526.6666666666666\n"
     ]
    }
   ],
   "source": [
    "avg =[]\n",
    "for i in range(3):\n",
    "  print(f\"Epsilon greedy DQN Expriement {i}: \\t Environment solved in {e_scores_l[i][1]} episodes\\n\")\n",
    "  avg.append(e_scores_l[i][1])\n",
    "avg = np.array(avg)\n",
    "print(f\"Average is {np.mean(avg)}\")\n",
    "\n",
    "avg = []\n",
    "for i in range(3):\n",
    "  print(f\"Softmax DQN Expriement {i}: \\t Environment solved in {s_scores_l[i][1]} episodes\\n\")\n",
    "  avg.append(s_scores_l[i][1])\n",
    "avg = np.array(avg)\n",
    "print(f\"Average is {np.mean(avg)}\")"
   ]
  },
  {
   "cell_type": "code",
   "execution_count": 47,
   "metadata": {
    "colab": {
     "base_uri": "https://localhost:8080/",
     "height": 265
    },
    "executionInfo": {
     "elapsed": 1039,
     "status": "ok",
     "timestamp": 1646752427279,
     "user": {
      "displayName": "Kothapalli Sathvik Joel cs19b025",
      "photoUrl": "https://lh3.googleusercontent.com/a-/AOh14GibHcWEO8VhBV62xRa6WKlCvDu1lKMS3FXJjB_v2Q=s64",
      "userId": "01406366905148927319"
     },
     "user_tz": -330
    },
    "id": "FujOMBdf07WK",
    "outputId": "4d01f0e9-b68a-458e-c1b5-947523d55a03"
   },
   "outputs": [
    {
     "data": {
      "image/png": "[encoded data removed]",
      "text/plain": [
       "<Figure size 432x288 with 1 Axes>"
      ]
     },
     "metadata": {
      "needs_background": "light"
     },
     "output_type": "display_data"
    }
   ],
   "source": [
    "for i in range(3):\n",
    "  plt.plot(s_scores_l[i][0], 'b', label = f\"Softmax-{i}\")\n",
    "  plt.plot(e_scores_l[i][0], 'g', label = f\"Epsilon-greedy-{i}\")\n",
    "plt.legend(loc='lower right')\n",
    "plt.show()"
   ]
  },
  {
   "cell_type": "markdown",
   "metadata": {
    "id": "e4jRQpJFRYI0"
   },
   "source": [
    "**Conclusion :**\n",
    "\n",
    "From the above expriments it is clear that softmax was able to achieve 195 score in lot less episodes than Epsilon greedy. So, softmax is prefarable in this settings"
   ]
  },
  {
   "cell_type": "markdown",
   "metadata": {
    "id": "Zt6xX0njbJvS"
   },
   "source": [
    "## **Part 2: One-Step Actor-Critic Algorithm**"
   ]
  },
  {
   "cell_type": "markdown",
   "metadata": {
    "id": "w9WWiiNxhM7x"
   },
   "source": [
    "**Actor-Critic methods** learn both a policy $\\pi(a|s;\\theta)$ and a state-value function $v(s;w)$ simultaneously. The policy is referred to as the actor that suggests actions given a state. The estimated value function is referred to as the critic. It evaluates actions taken by the actor based on the given policy. In this exercise, both functions are approximated by feedforward neural networks. \n",
    "\n",
    "- The policy network is parametrized by $\\theta$ - it takes a state $s$ as input and outputs the probabilities $\\pi(a|s;\\theta)\\ \\forall\\ a$\n",
    "- The value network is parametrized by $w$ - it takes a state $s$ as input and outputs a scalar value associated with the state, i.e., $v(s;w)$\n",
    "- The single step TD error can be defined as follows:\n",
    "$$\\delta_t  = R_{t+1} + \\gamma v(s_{t+1};w) - v(s_t;w)$$\n",
    "- The loss function to be minimized at every step ($L_{tot}^{(t)}$) is a summation of two terms, as follows:\n",
    "$$L_{tot}^{(t)} = L_{actor}^{(t)} + L_{critic}^{(t)}$$\n",
    "where,\n",
    "$$L_{actor}^{(t)} = -\\log\\pi(a_t|s_t; \\theta)\\delta_t$$\n",
    "$$L_{critic}^{(t)} = \\delta_t^2$$\n",
    "- **NOTE: Here, weights of the first two hidden layers are shared by the policy and the value network**\n",
    "    - First two hidden layer sizes: [1024, 512]\n",
    "    - Output size of policy network: 2 (Softmax activation)\n",
    "    - Output size of value network: 1 (Linear activation)\n",
    "\n",
    "<!-- $$\\pi(a|s;\\theta) = \\phi_{\\theta}(a,s)$$ -->"
   ]
  },
  {
   "cell_type": "markdown",
   "metadata": {
    "id": "1eU3_IeYwN3H"
   },
   "source": [
    "### Initializing Actor-Critic Network"
   ]
  },
  {
   "cell_type": "code",
   "execution_count": 48,
   "metadata": {
    "executionInfo": {
     "elapsed": 536,
     "status": "ok",
     "timestamp": 1646753075061,
     "user": {
      "displayName": "Kothapalli Sathvik Joel cs19b025",
      "photoUrl": "https://lh3.googleusercontent.com/a-/AOh14GibHcWEO8VhBV62xRa6WKlCvDu1lKMS3FXJjB_v2Q=s64",
      "userId": "01406366905148927319"
     },
     "user_tz": -330
    },
    "id": "MXFHQcJjVKYu"
   },
   "outputs": [],
   "source": [
    "class ActorCriticModel(tf.keras.Model):\n",
    "    \"\"\"\n",
    "    Defining policy and value networkss\n",
    "    \"\"\"\n",
    "    def __init__(self, action_size, n_hidden1=1024, n_hidden2=512):\n",
    "        super(ActorCriticModel, self).__init__()\n",
    "\n",
    "        #Hidden Layer 1\n",
    "        self.fc1 = tf.keras.layers.Dense(n_hidden1, activation='relu')\n",
    "        #Hidden Layer 2\n",
    "        self.fc2 = tf.keras.layers.Dense(n_hidden2, activation='relu')\n",
    "        \n",
    "        #Output Layer for policy\n",
    "        self.pi_out = tf.keras.layers.Dense(action_size, activation='softmax')\n",
    "        #Output Layer for state-value\n",
    "        self.v_out = tf.keras.layers.Dense(1)\n",
    "\n",
    "    def call(self, state):\n",
    "        \"\"\"\n",
    "        Computes policy distribution and state-value for a given state\n",
    "        \"\"\"\n",
    "        layer1 = self.fc1(state)\n",
    "        layer2 = self.fc2(layer1)\n",
    "\n",
    "        pi = self.pi_out(layer2)\n",
    "        v = self.v_out(layer2)\n",
    "\n",
    "        return pi, v"
   ]
  },
  {
   "cell_type": "markdown",
   "metadata": {
    "id": "40uV1hrewVnA"
   },
   "source": [
    "### Agent Class\n",
    "###**Task 2a:** Write code to compute $\\delta_t$ inside the Agent.learn() function\n",
    "\n"
   ]
  },
  {
   "cell_type": "code",
   "execution_count": 49,
   "metadata": {
    "executionInfo": {
     "elapsed": 2,
     "status": "ok",
     "timestamp": 1646753075958,
     "user": {
      "displayName": "Kothapalli Sathvik Joel cs19b025",
      "photoUrl": "https://lh3.googleusercontent.com/a-/AOh14GibHcWEO8VhBV62xRa6WKlCvDu1lKMS3FXJjB_v2Q=s64",
      "userId": "01406366905148927319"
     },
     "user_tz": -330
    },
    "id": "9RNpp9WMfkTE"
   },
   "outputs": [],
   "source": [
    "class Agent:\n",
    "    \"\"\"\n",
    "    Agent class\n",
    "    \"\"\"\n",
    "    def __init__(self, action_size, lr=0.001, gamma=0.99, seed = 85):\n",
    "        self.gamma = gamma\n",
    "        self.ac_model = ActorCriticModel(action_size=action_size)\n",
    "        self.ac_model.compile(tf.keras.optimizers.Adam(learning_rate=lr))\n",
    "        np.random.seed(seed)\n",
    "    \n",
    "    def sample_action(self, state):\n",
    "        \"\"\"\n",
    "        Given a state, compute the policy distribution over all actions and sample one action\n",
    "        \"\"\"\n",
    "        pi,_ = self.ac_model(state)\n",
    "\n",
    "        action_probabilities = tfp.distributions.Categorical(probs=pi)\n",
    "        sample = action_probabilities.sample()\n",
    "\n",
    "        return int(sample.numpy()[0])\n",
    "\n",
    "    def actor_loss(self, action, pi, delta):\n",
    "        \"\"\"\n",
    "        Compute Actor Loss\n",
    "        \"\"\"\n",
    "        return -tf.math.log(pi[0,action]) * delta\n",
    "\n",
    "    def critic_loss(self,delta):\n",
    "        \"\"\"\n",
    "        Critic loss aims to minimize TD error\n",
    "        \"\"\"\n",
    "        return delta**2\n",
    "\n",
    "    @tf.function\n",
    "    def learn(self, state, action, reward, next_state, done):\n",
    "        \"\"\"\n",
    "        For a given transition (s,a,s',r) update the paramters by computing the\n",
    "        gradient of the total loss\n",
    "        \"\"\"\n",
    "        with tf.GradientTape(persistent=True) as tape:\n",
    "            pi, V_s = self.ac_model(state)\n",
    "            _, V_s_next = self.ac_model(next_state)\n",
    "\n",
    "            V_s = tf.squeeze(V_s)\n",
    "            V_s_next = tf.squeeze(V_s_next)\n",
    "            \n",
    "\n",
    "            #### TO DO: Write the equation for delta (TD error)\n",
    "            ## Write code below\n",
    "            delta = reward + (self.gamma*V_s_next) - V_s\n",
    "\n",
    "            loss_a = self.actor_loss(action, pi, delta)\n",
    "            loss_c =self.critic_loss(delta)\n",
    "            loss_total = loss_a + loss_c\n",
    "\n",
    "        gradient = tape.gradient(loss_total, self.ac_model.trainable_variables)\n",
    "        self.ac_model.optimizer.apply_gradients(zip(gradient, self.ac_model.trainable_variables))"
   ]
  },
  {
   "cell_type": "markdown",
   "metadata": {
    "id": "bUJwznIzwBIX"
   },
   "source": [
    "### Train the Network"
   ]
  },
  {
   "cell_type": "code",
   "execution_count": 50,
   "metadata": {
    "colab": {
     "base_uri": "https://localhost:8080/"
    },
    "executionInfo": {
     "elapsed": 1647036,
     "status": "ok",
     "timestamp": 1646754748312,
     "user": {
      "displayName": "Kothapalli Sathvik Joel cs19b025",
      "photoUrl": "https://lh3.googleusercontent.com/a-/AOh14GibHcWEO8VhBV62xRa6WKlCvDu1lKMS3FXJjB_v2Q=s64",
      "userId": "01406366905148927319"
     },
     "user_tz": -330
    },
    "id": "Q0SB0o_OfyGN",
    "outputId": "621b87a2-3447-4f9d-a700-750eeb03ce3e"
   },
   "outputs": [
    {
     "name": "stdout",
     "output_type": "stream",
     "text": [
      "Episode  10 Reward 15.000000 Average Reward 26.700000\n",
      "Episode  20 Reward 126.000000 Average Reward 76.300000\n",
      "Episode  30 Reward 60.000000 Average Reward 72.800000\n",
      "Episode  40 Reward 104.000000 Average Reward 90.300000\n",
      "Episode  50 Reward 88.000000 Average Reward 106.500000\n",
      "Episode  60 Reward 42.000000 Average Reward 63.100000\n",
      "Episode  70 Reward 98.000000 Average Reward 77.600000\n",
      "Episode  80 Reward 143.000000 Average Reward 103.800000\n",
      "Episode  90 Reward 179.000000 Average Reward 162.300000\n",
      "Episode  100 Reward 149.000000 Average Reward 160.900000\n",
      "Episode  110 Reward 113.000000 Average Reward 164.800000\n",
      "Episode  120 Reward 113.000000 Average Reward 119.200000\n",
      "Episode  130 Reward 66.000000 Average Reward 119.700000\n",
      "Episode  140 Reward 124.000000 Average Reward 147.200000\n",
      "Episode  150 Reward 110.000000 Average Reward 115.000000\n",
      "Episode  160 Reward 90.000000 Average Reward 121.300000\n",
      "Episode  170 Reward 78.000000 Average Reward 150.700000\n",
      "Episode  180 Reward 169.000000 Average Reward 138.600000\n",
      "Episode  190 Reward 200.000000 Average Reward 187.200000\n",
      "Episode  200 Reward 194.000000 Average Reward 178.100000\n",
      "Episode  210 Reward 200.000000 Average Reward 190.000000\n",
      "Episode  220 Reward 200.000000 Average Reward 196.100000\n",
      "Episode  230 Reward 200.000000 Average Reward 200.000000\n",
      "Episode  240 Reward 80.000000 Average Reward 150.500000\n",
      "Episode  250 Reward 186.000000 Average Reward 105.600000\n",
      "Episode  260 Reward 200.000000 Average Reward 184.300000\n",
      "Episode  270 Reward 200.000000 Average Reward 200.000000\n",
      "Episode  280 Reward 200.000000 Average Reward 200.000000\n",
      "Episode  290 Reward 92.000000 Average Reward 124.800000\n",
      "Episode  300 Reward 154.000000 Average Reward 87.200000\n",
      "Episode  310 Reward 200.000000 Average Reward 182.600000\n",
      "Episode  320 Reward 200.000000 Average Reward 200.000000\n",
      "Episode  330 Reward 200.000000 Average Reward 200.000000\n",
      "Episode  340 Reward 200.000000 Average Reward 200.000000\n",
      "Episode  350 Reward 24.000000 Average Reward 142.800000\n",
      "Episode  360 Reward 126.000000 Average Reward 145.600000\n",
      "Episode  370 Reward 136.000000 Average Reward 151.700000\n",
      "Episode  380 Reward 23.000000 Average Reward 77.600000\n",
      "Episode  390 Reward 189.000000 Average Reward 133.300000\n",
      "Episode  400 Reward 145.000000 Average Reward 183.100000\n",
      "Episode  410 Reward 200.000000 Average Reward 173.700000\n",
      "Episode  420 Reward 200.000000 Average Reward 188.900000\n",
      "Episode  430 Reward 200.000000 Average Reward 200.000000\n",
      "Episode  440 Reward 200.000000 Average Reward 197.600000\n",
      "Episode  450 Reward 151.000000 Average Reward 189.100000\n",
      "Episode  460 Reward 132.000000 Average Reward 148.500000\n",
      "Episode  470 Reward 200.000000 Average Reward 175.000000\n",
      "Episode  480 Reward 200.000000 Average Reward 199.400000\n",
      "Episode  490 Reward 200.000000 Average Reward 199.400000\n",
      "Episode  500 Reward 200.000000 Average Reward 199.800000\n",
      "Episode  510 Reward 200.000000 Average Reward 200.000000\n",
      "Episode  520 Reward 200.000000 Average Reward 200.000000\n",
      "Episode  530 Reward 200.000000 Average Reward 189.800000\n",
      "Episode  540 Reward 200.000000 Average Reward 200.000000\n",
      "Episode  550 Reward 44.000000 Average Reward 143.100000\n",
      "Episode  560 Reward 33.000000 Average Reward 42.500000\n",
      "Episode  570 Reward 31.000000 Average Reward 33.700000\n",
      "Episode  580 Reward 31.000000 Average Reward 26.500000\n",
      "Episode  590 Reward 22.000000 Average Reward 22.700000\n",
      "Episode  600 Reward 20.000000 Average Reward 22.800000\n",
      "Episode  610 Reward 30.000000 Average Reward 23.300000\n",
      "Episode  620 Reward 28.000000 Average Reward 29.000000\n",
      "Episode  630 Reward 30.000000 Average Reward 26.800000\n",
      "Episode  640 Reward 200.000000 Average Reward 123.100000\n",
      "Episode  650 Reward 135.000000 Average Reward 182.200000\n",
      "Episode  660 Reward 181.000000 Average Reward 174.000000\n",
      "Episode  670 Reward 200.000000 Average Reward 188.100000\n",
      "Episode  680 Reward 144.000000 Average Reward 149.300000\n",
      "Episode  690 Reward 107.000000 Average Reward 107.200000\n",
      "Episode  700 Reward 28.000000 Average Reward 43.800000\n",
      "Episode  710 Reward 24.000000 Average Reward 25.000000\n",
      "Episode  720 Reward 28.000000 Average Reward 24.300000\n",
      "Episode  730 Reward 46.000000 Average Reward 46.800000\n",
      "Episode  740 Reward 32.000000 Average Reward 37.000000\n",
      "Episode  750 Reward 36.000000 Average Reward 72.700000\n",
      "Episode  760 Reward 111.000000 Average Reward 104.200000\n",
      "Episode  770 Reward 39.000000 Average Reward 74.100000\n",
      "Episode  780 Reward 39.000000 Average Reward 48.900000\n",
      "Episode  790 Reward 119.000000 Average Reward 84.200000\n",
      "Episode  800 Reward 136.000000 Average Reward 116.400000\n",
      "Episode  810 Reward 100.000000 Average Reward 128.900000\n",
      "Episode  820 Reward 71.000000 Average Reward 75.400000\n",
      "Episode  830 Reward 33.000000 Average Reward 45.000000\n",
      "Episode  840 Reward 32.000000 Average Reward 35.900000\n",
      "Episode  850 Reward 41.000000 Average Reward 44.000000\n",
      "Episode  860 Reward 25.000000 Average Reward 33.800000\n",
      "Episode  870 Reward 22.000000 Average Reward 26.400000\n",
      "Episode  880 Reward 41.000000 Average Reward 31.700000\n",
      "Episode  890 Reward 34.000000 Average Reward 37.200000\n",
      "Episode  900 Reward 34.000000 Average Reward 28.500000\n",
      "Episode  910 Reward 113.000000 Average Reward 93.200000\n",
      "Episode  920 Reward 112.000000 Average Reward 110.000000\n",
      "Episode  930 Reward 126.000000 Average Reward 115.000000\n",
      "Episode  940 Reward 107.000000 Average Reward 104.800000\n",
      "Episode  950 Reward 81.000000 Average Reward 90.100000\n",
      "Episode  960 Reward 95.000000 Average Reward 78.800000\n",
      "Episode  970 Reward 103.000000 Average Reward 110.900000\n",
      "Episode  980 Reward 85.000000 Average Reward 105.200000\n",
      "Episode  990 Reward 101.000000 Average Reward 88.800000\n",
      "Episode  1000 Reward 97.000000 Average Reward 85.500000\n",
      "Episode  1010 Reward 111.000000 Average Reward 77.300000\n",
      "Episode  1020 Reward 70.000000 Average Reward 77.200000\n",
      "Episode  1030 Reward 53.000000 Average Reward 61.200000\n",
      "Episode  1040 Reward 75.000000 Average Reward 71.100000\n",
      "Episode  1050 Reward 66.000000 Average Reward 94.900000\n",
      "Episode  1060 Reward 70.000000 Average Reward 78.200000\n",
      "Episode  1070 Reward 87.000000 Average Reward 114.500000\n",
      "Episode  1080 Reward 75.000000 Average Reward 97.600000\n",
      "Episode  1090 Reward 200.000000 Average Reward 117.500000\n",
      "Episode  1100 Reward 200.000000 Average Reward 165.200000\n",
      "Episode  1110 Reward 171.000000 Average Reward 171.600000\n",
      "Episode  1120 Reward 75.000000 Average Reward 142.200000\n",
      "Episode  1130 Reward 80.000000 Average Reward 98.400000\n",
      "Episode  1140 Reward 63.000000 Average Reward 72.000000\n",
      "Episode  1150 Reward 47.000000 Average Reward 47.200000\n",
      "Episode  1160 Reward 85.000000 Average Reward 53.400000\n",
      "Episode  1170 Reward 136.000000 Average Reward 83.000000\n",
      "Episode  1180 Reward 86.000000 Average Reward 92.100000\n",
      "Episode  1190 Reward 150.000000 Average Reward 139.200000\n",
      "Episode  1200 Reward 129.000000 Average Reward 121.900000\n",
      "Episode  1210 Reward 181.000000 Average Reward 156.500000\n",
      "Episode  1220 Reward 87.000000 Average Reward 118.900000\n",
      "Episode  1230 Reward 53.000000 Average Reward 86.200000\n",
      "Episode  1240 Reward 62.000000 Average Reward 72.100000\n",
      "Episode  1250 Reward 65.000000 Average Reward 77.000000\n",
      "Episode  1260 Reward 61.000000 Average Reward 64.700000\n",
      "Episode  1270 Reward 64.000000 Average Reward 49.500000\n",
      "Episode  1280 Reward 40.000000 Average Reward 52.900000\n",
      "Episode  1290 Reward 47.000000 Average Reward 43.100000\n",
      "Episode  1300 Reward 54.000000 Average Reward 53.300000\n",
      "Episode  1310 Reward 68.000000 Average Reward 53.600000\n",
      "Episode  1320 Reward 72.000000 Average Reward 55.300000\n",
      "Episode  1330 Reward 57.000000 Average Reward 63.300000\n",
      "Episode  1340 Reward 61.000000 Average Reward 56.800000\n",
      "Episode  1350 Reward 114.000000 Average Reward 91.600000\n",
      "Episode  1360 Reward 126.000000 Average Reward 145.800000\n",
      "Episode  1370 Reward 141.000000 Average Reward 137.500000\n",
      "Episode  1380 Reward 169.000000 Average Reward 175.200000\n",
      "Episode  1390 Reward 200.000000 Average Reward 196.200000\n",
      "Episode  1400 Reward 200.000000 Average Reward 199.000000\n",
      "Episode  1410 Reward 200.000000 Average Reward 200.000000\n",
      "Episode  1420 Reward 200.000000 Average Reward 200.000000\n",
      "Episode  1430 Reward 132.000000 Average Reward 182.200000\n",
      "Episode  1440 Reward 152.000000 Average Reward 134.900000\n",
      "Episode  1450 Reward 155.000000 Average Reward 172.600000\n",
      "Episode  1460 Reward 116.000000 Average Reward 173.300000\n",
      "Episode  1470 Reward 200.000000 Average Reward 171.100000\n",
      "Episode  1480 Reward 200.000000 Average Reward 199.800000\n",
      "Episode  1490 Reward 200.000000 Average Reward 200.000000\n",
      "Episode  1500 Reward 200.000000 Average Reward 200.000000\n",
      "Episode  1510 Reward 200.000000 Average Reward 200.000000\n",
      "Episode  1520 Reward 200.000000 Average Reward 200.000000\n",
      "Episode  1530 Reward 200.000000 Average Reward 200.000000\n",
      "Episode  1540 Reward 200.000000 Average Reward 200.000000\n",
      "Episode  1550 Reward 200.000000 Average Reward 200.000000\n",
      "Stopped at Episode  1457\n",
      "0:27:25.899065\n"
     ]
    }
   ],
   "source": [
    "env = gym.make('CartPole-v0')\n",
    "\n",
    "#Initializing Agent\n",
    "agent = Agent(lr=1e-4, action_size=env.action_space.n)\n",
    "#Number of episodes\n",
    "episodes = 1800\n",
    "tf.compat.v1.reset_default_graph()\n",
    "\n",
    "reward_list = []\n",
    "average_reward_list = []\n",
    "begin_time = datetime.datetime.now()\n",
    "\n",
    "for ep in range(1, episodes + 1):\n",
    "    state = env.reset().reshape(1,-1)\n",
    "    done = False\n",
    "    ep_rew = 0\n",
    "    while not done:\n",
    "        action = agent.sample_action(state) ##Sample Action\n",
    "        next_state, reward, done, info = env.step(action) ##Take action\n",
    "        next_state = next_state.reshape(1,-1)\n",
    "        ep_rew += reward  ##Updating episode reward\n",
    "        agent.learn(state, action, reward, next_state, done) ##Update Parameters\n",
    "        state = next_state ##Updating State\n",
    "    reward_list.append(ep_rew)\n",
    "\n",
    "    if ep % 10 == 0:\n",
    "        avg_rew = np.mean(reward_list[-10:])\n",
    "        print('Episode ', ep, 'Reward %f' % ep_rew, 'Average Reward %f' % avg_rew)\n",
    "\n",
    "    if ep % 100:\n",
    "        avg_100 =  np.mean(reward_list[-100:])\n",
    "        if avg_100 > 195.0:\n",
    "            print('Stopped at Episode ',ep-100)\n",
    "            break\n",
    "\n",
    "time_taken = datetime.datetime.now() - begin_time\n",
    "print(time_taken)"
   ]
  },
  {
   "cell_type": "markdown",
   "metadata": {
    "id": "twYwsX7Hu1V1"
   },
   "source": [
    "### **Task 2b**: Plot total reward curve\n",
    "In the cell below, write code to plot the total reward averaged over 100 episodes (moving average)"
   ]
  },
  {
   "cell_type": "code",
   "execution_count": 53,
   "metadata": {
    "colab": {
     "base_uri": "https://localhost:8080/",
     "height": 295
    },
    "executionInfo": {
     "elapsed": 27,
     "status": "ok",
     "timestamp": 1646755148423,
     "user": {
      "displayName": "Kothapalli Sathvik Joel cs19b025",
      "photoUrl": "https://lh3.googleusercontent.com/a-/AOh14GibHcWEO8VhBV62xRa6WKlCvDu1lKMS3FXJjB_v2Q=s64",
      "userId": "01406366905148927319"
     },
     "user_tz": -330
    },
    "id": "wOZzkLIgvHgS",
    "outputId": "b451c055-7f85-449b-bf2d-574a40dfcc86"
   },
   "outputs": [
    {
     "data": {
      "image/png": "[encoded data removed]",
      "text/plain": [
       "<Figure size 432x288 with 1 Axes>"
      ]
     },
     "metadata": {
      "needs_background": "light"
     },
     "output_type": "display_data"
    }
   ],
   "source": [
    "### Plot of total reward vs episode\n",
    "## Write Code Below\n",
    "def running_mean(x, N):\n",
    "    cumsum = np.cumsum(np.insert(x, 0, 0)) \n",
    "    return (cumsum[N:] - cumsum[:-N]) / float(N)\n",
    "\n",
    "y = running_mean(reward_list ,100)\n",
    "plt.plot(y)\n",
    "plt.title(\"Running average of previous 100 rewards\")\n",
    "plt.xlabel(\"Episodes\")\n",
    "plt.ylabel(\"Total Reward\")\n",
    "plt.show()"
   ]
  },
  {
   "cell_type": "markdown",
   "metadata": {
    "id": "UjC1dxbuuNL2"
   },
   "source": [
    "### Code for rendering ([source](https://colab.research.google.com/drive/1D6bvoEVukil7DUaJU465vtfuDgLDbOY7#scrollTo=qbIMMkfmRHyC))"
   ]
  },
  {
   "cell_type": "code",
   "execution_count": null,
   "metadata": {
    "id": "D2cisMBqgg9Y"
   },
   "outputs": [],
   "source": [
    "# Render an episode and save as a GIF file\n",
    "\n",
    "display = Display(visible=0, size=(400, 300))\n",
    "display.start()\n",
    "\n",
    "\n",
    "def render_episode(env: gym.Env, model: tf.keras.Model, max_steps: int): \n",
    "  screen = env.render(mode='rgb_array')\n",
    "  im = Image.fromarray(screen)\n",
    "\n",
    "  images = [im]\n",
    "  \n",
    "  state = tf.constant(env.reset(), dtype=tf.float32)\n",
    "  for i in range(1, max_steps + 1):\n",
    "    state = tf.expand_dims(state, 0)\n",
    "    action_probs, _ = model(state)\n",
    "    action = np.argmax(np.squeeze(action_probs))\n",
    "    state, _, done, _ = env.step(action)\n",
    "    state = tf.constant(state, dtype=tf.float32)\n",
    "\n",
    "    # Render screen every 10 steps\n",
    "    if i % 10 == 0:\n",
    "      screen = env.render(mode='rgb_array')\n",
    "      images.append(Image.fromarray(screen))\n",
    "  \n",
    "    if done:\n",
    "      break\n",
    "  \n",
    "  return images\n",
    "\n",
    "\n",
    "# Save GIF image\n",
    "images = render_episode(env, agent.ac_model, 200)\n",
    "image_file = 'cartpole-v0.gif'\n",
    "# loop=0: loop forever, duration=1: play each frame for 1ms\n",
    "images[0].save(\n",
    "    image_file, save_all=True, append_images=images[1:], loop=0, duration=1)"
   ]
  },
  {
   "cell_type": "code",
   "execution_count": null,
   "metadata": {
    "colab": {
     "base_uri": "https://localhost:8080/",
     "height": 422
    },
    "id": "2BT7j10-9zms",
    "outputId": "38919442-3fb8-41e6-d508-eae277e6f08d"
   },
   "outputs": [
    {
     "data": {
      "text/html": [
       "<img src=\"data:image/gif;base64,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\"/>"
      ],
      "text/plain": [
       "<IPython.core.display.HTML object>"
      ]
     },
     "execution_count": 14,
     "metadata": {},
     "output_type": "execute_result"
    }
   ],
   "source": [
    "import tensorflow_docs.vis.embed as embed\n",
    "embed.embed_file(image_file)"
   ]
  },
  {
   "cell_type": "markdown",
   "metadata": {
    "id": "VOtywC1RQgOs"
   },
   "source": [
    "# For downlading the file (IGNORE )"
   ]
  },
  {
   "cell_type": "code",
   "execution_count": 57,
   "metadata": {
    "colab": {
     "base_uri": "https://localhost:8080/"
    },
    "executionInfo": {
     "elapsed": 2558,
     "status": "ok",
     "timestamp": 1646755805439,
     "user": {
      "displayName": "Kothapalli Sathvik Joel cs19b025",
      "photoUrl": "https://lh3.googleusercontent.com/a-/AOh14GibHcWEO8VhBV62xRa6WKlCvDu1lKMS3FXJjB_v2Q=s64",
      "userId": "01406366905148927319"
     },
     "user_tz": -330
    },
    "id": "UkaXz2CUQqsh",
    "outputId": "3a41f919-2b44-4dcd-c655-1a5f43b170d2"
   },
   "outputs": [
    {
     "name": "stdout",
     "output_type": "stream",
     "text": [
      "Reading package lists... Done\n",
      "Building dependency tree       \n",
      "Reading state information... Done\n",
      "texlive-fonts-recommended is already the newest version (2017.20180305-1).\n",
      "texlive-plain-generic is already the newest version (2017.20180305-2).\n",
      "texlive-xetex is already the newest version (2017.20180305-1).\n",
      "The following package was automatically installed and is no longer required:\n",
      "  libnvidia-common-470\n",
      "Use 'sudo apt autoremove' to remove it.\n",
      "0 upgraded, 0 newly installed, 0 to remove and 78 not upgraded.\n"
     ]
    }
   ],
   "source": [
    "!sudo apt-get install texlive-xetex texlive-fonts-recommended texlive-plain-generic"
   ]
  },
  {
   "cell_type": "code",
   "execution_count": 61,
   "metadata": {
    "colab": {
     "base_uri": "https://localhost:8080/"
    },
    "executionInfo": {
     "elapsed": 5758,
     "status": "ok",
     "timestamp": 1646755977567,
     "user": {
      "displayName": "Kothapalli Sathvik Joel cs19b025",
      "photoUrl": "https://lh3.googleusercontent.com/a-/AOh14GibHcWEO8VhBV62xRa6WKlCvDu1lKMS3FXJjB_v2Q=s64",
      "userId": "01406366905148927319"
     },
     "user_tz": -330
    },
    "id": "pgDnDpjC_d9q",
    "outputId": "1f5a12d3-c3d9-4f3a-a6f7-97b8164a6874"
   },
   "outputs": [
    {
     "name": "stdout",
     "output_type": "stream",
     "text": [
      "[NbConvertApp] Converting notebook /content/drive/MyDrive/Documents/Sem6-drive/RL/Tutorial/4Tut/Tutorial_4_DQN_and_AC.ipynb to pdf\n",
      "/usr/local/lib/python2.7/dist-packages/nbconvert/filters/datatypefilter.py:41: UserWarning: Your element with mimetype(s) [u'application/vnd.colab-display-data+json'] is not able to be represented.\n",
      "  mimetypes=output.keys())\n",
      "[NbConvertApp] Support files will be in Tutorial_4_DQN_and_AC_files/\n",
      "[NbConvertApp] Making directory ./Tutorial_4_DQN_and_AC_files\n",
      "[NbConvertApp] Making directory ./Tutorial_4_DQN_and_AC_files\n",
      "[NbConvertApp] Writing 112759 bytes to ./notebook.tex\n",
      "[NbConvertApp] Building PDF\n",
      "[NbConvertApp] Running xelatex 3 times: [u'xelatex', u'./notebook.tex', '-quiet']\n",
      "[NbConvertApp] Running bibtex 1 time: [u'bibtex', u'./notebook']\n",
      "[NbConvertApp] WARNING | bibtex had problems, most likely because there were no citations\n",
      "[NbConvertApp] PDF successfully created\n",
      "[NbConvertApp] Writing 156380 bytes to /content/drive/MyDrive/Documents/Sem6-drive/RL/Tutorial/4Tut/Tutorial_4_DQN_and_AC.pdf\n"
     ]
    }
   ],
   "source": [
    "!jupyter nbconvert --to pdf /content/drive/MyDrive/Documents/Sem6-drive/RL/Tutorial/4Tut/Tutorial_4_DQN_and_AC.ipynb"
   ]
  },
  {
   "cell_type": "code",
   "execution_count": 56,
   "metadata": {
    "colab": {
     "base_uri": "https://localhost:8080/"
    },
    "executionInfo": {
     "elapsed": 22813,
     "status": "ok",
     "timestamp": 1646755791895,
     "user": {
      "displayName": "Kothapalli Sathvik Joel cs19b025",
      "photoUrl": "https://lh3.googleusercontent.com/a-/AOh14GibHcWEO8VhBV62xRa6WKlCvDu1lKMS3FXJjB_v2Q=s64",
      "userId": "01406366905148927319"
     },
     "user_tz": -330
    },
    "id": "f3NG5yz9St9n",
    "outputId": "44cab0dd-840b-4f91-b592-24cc160c5b4d"
   },
   "outputs": [
    {
     "name": "stdout",
     "output_type": "stream",
     "text": [
      "Mounted at /content/drive\n"
     ]
    }
   ],
   "source": [
    "from google.colab import drive\n",
    "drive.mount('/content/drive')"
   ]
  },
  {
   "cell_type": "code",
   "execution_count": null,
   "metadata": {
    "id": "RbkcG7kkSubt"
   },
   "outputs": [],
   "source": []
  }
 ],
 "metadata": {
  "accelerator": "GPU",
  "colab": {
   "collapsed_sections": [],
   "name": "Tutorial_4_DQN_and_AC.ipynb",
   "provenance": []
  },
  "kernelspec": {
   "display_name": "Python 3",
   "language": "python",
   "name": "python3"
  },
  "language_info": {
   "codemirror_mode": {
    "name": "ipython",
    "version": 3
   },
   "file_extension": ".py",
   "mimetype": "text/x-python",
   "name": "python",
   "nbconvert_exporter": "python",
   "pygments_lexer": "ipython3",
   "version": "3.8.8"
  }
 },
 "nbformat": 4,
 "nbformat_minor": 1
}
